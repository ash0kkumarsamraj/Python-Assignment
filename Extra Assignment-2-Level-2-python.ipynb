{
 "cells": [
  {
   "cell_type": "code",
   "execution_count": null,
   "id": "1e1bb17b",
   "metadata": {},
   "outputs": [],
   "source": [
    " # print 0 to 20 by using range"
   ]
  },
  {
   "cell_type": "code",
   "execution_count": 2,
   "id": "a7d32bd9",
   "metadata": {},
   "outputs": [
    {
     "name": "stdout",
     "output_type": "stream",
     "text": [
      "0\n",
      "1\n",
      "2\n",
      "3\n",
      "4\n",
      "5\n",
      "6\n",
      "7\n",
      "8\n",
      "9\n",
      "10\n",
      "11\n",
      "12\n",
      "13\n",
      "14\n",
      "15\n",
      "16\n",
      "17\n",
      "18\n",
      "19\n"
     ]
    }
   ],
   "source": [
    "num=range(0,20)\n",
    "for temp in num:\n",
    "    print(temp)"
   ]
  },
  {
   "cell_type": "code",
   "execution_count": null,
   "id": "101d084b",
   "metadata": {},
   "outputs": [],
   "source": [
    "# print range 10 to 20"
   ]
  },
  {
   "cell_type": "code",
   "execution_count": 5,
   "id": "ee254276",
   "metadata": {},
   "outputs": [
    {
     "name": "stdout",
     "output_type": "stream",
     "text": [
      "10 11 12 13 14 15 16 17 18 19 "
     ]
    }
   ],
   "source": [
    "num=range(10,20)\n",
    "for temp in num:\n",
    "    print(temp, end=\" \")"
   ]
  },
  {
   "cell_type": "code",
   "execution_count": null,
   "id": "2dfa6b7d",
   "metadata": {},
   "outputs": [],
   "source": [
    "# Print number of items in the list by using 'len'"
   ]
  },
  {
   "cell_type": "code",
   "execution_count": 18,
   "id": "7166cd23",
   "metadata": {},
   "outputs": [
    {
     "name": "stdout",
     "output_type": "stream",
     "text": [
      "Number of item in the List2: \n",
      " 7\n"
     ]
    }
   ],
   "source": [
    "number=[10, 20, 14, 55, 43, 87, 76]\n",
    "length=len(number)\n",
    "print(\"Number of item in the List2:\",\"\\n\",length)"
   ]
  },
  {
   "cell_type": "code",
   "execution_count": 45,
   "id": "bcd12fcc",
   "metadata": {},
   "outputs": [
    {
     "name": "stdout",
     "output_type": "stream",
     "text": [
      "Artificial Intelligence\n",
      "A\n",
      "r\n",
      "t\n",
      "i\n",
      "f\n",
      "i\n",
      "c\n",
      "i\n",
      "a\n",
      "l\n",
      " \n",
      "I\n",
      "n\n",
      "t\n",
      "e\n",
      "l\n",
      "l\n",
      "i\n",
      "g\n",
      "e\n",
      "n\n",
      "c\n",
      "e\n"
     ]
    }
   ],
   "source": [
    "tuples=tuple('Artificial Intelligence')\n",
    "for temp in tuples:\n",
    "    print(temp,end=\"\")\n",
    "for temp in '\\n':\n",
    "    print()\n",
    "for temp in tuples:\n",
    "    print(temp)"
   ]
  },
  {
   "cell_type": "code",
   "execution_count": 29,
   "id": "a60ae7c4",
   "metadata": {},
   "outputs": [
    {
     "name": "stdout",
     "output_type": "stream",
     "text": [
      "-Your Name-\n",
      "-Your Age-\n",
      "-Your Profession-\n"
     ]
    }
   ],
   "source": [
    "#using list:\n",
    "lists=['Name-','Age-','Profession-']\n",
    "a = \"-Your\"\n",
    "for temp in lists:\n",
    "    print(a,temp)"
   ]
  },
  {
   "cell_type": "code",
   "execution_count": 31,
   "id": "e00987b8",
   "metadata": {},
   "outputs": [
    {
     "name": "stdout",
     "output_type": "stream",
     "text": [
      "-Your Name-\n",
      "-Your Age-\n",
      "-Your Profession-\n"
     ]
    }
   ],
   "source": [
    "#Using tuple:\n",
    "tuples=['-Your','Name-','Age-','Profession-']\n",
    "a,b,c,d = tuples\n",
    "print(a,b)\n",
    "print(a,c)\n",
    "print(a,d)"
   ]
  },
  {
   "cell_type": "code",
   "execution_count": 1,
   "id": "83cd6f9b",
   "metadata": {},
   "outputs": [
    {
     "name": "stdout",
     "output_type": "stream",
     "text": [
      "(1, 'Welcome', 2, 'Hope')\n"
     ]
    }
   ],
   "source": [
    "lists=(1, 'Welcome', 2, 'Hope')\n",
    "tuples=tuple(lists)\n",
    "print(tuples)"
   ]
  },
  {
   "cell_type": "code",
   "execution_count": 3,
   "id": "2de6741c",
   "metadata": {},
   "outputs": [
    {
     "name": "stdout",
     "output_type": "stream",
     "text": [
      "((0, 1, 2, 3), ('python', 'HOPE'))\n"
     ]
    }
   ],
   "source": [
    "Tuple1 = (0, 1, 2, 3)\n",
    "Tuple2 = ('python', 'HOPE')\n",
    "Tuple3 = (Tuple1,Tuple2)\n",
    "print(Tuple3)"
   ]
  },
  {
   "cell_type": "code",
   "execution_count": null,
   "id": "a782483d",
   "metadata": {},
   "outputs": [],
   "source": [
    "# print Odd Numbers in the list"
   ]
  },
  {
   "cell_type": "code",
   "execution_count": 27,
   "id": "1c238ab4",
   "metadata": {},
   "outputs": [
    {
     "name": "stdout",
     "output_type": "stream",
     "text": [
      "(20, 10, 16, 19, 25, 1, 276, 188)\n",
      "19 is odd\n",
      "25 is odd\n",
      "1 is odd\n"
     ]
    }
   ],
   "source": [
    "lists=[20,10,16,19,25,1,276,188]\n",
    "tuples=tuple(lists)\n",
    "print(tuples)\n",
    "for temp in lists:\n",
    "    if(temp%2==1):\n",
    "        print(temp,\"is odd\")\n",
    "    else:\n",
    "        pass"
   ]
  },
  {
   "cell_type": "code",
   "execution_count": null,
   "id": "62240973",
   "metadata": {},
   "outputs": [],
   "source": [
    "# print Even numbers in the list"
   ]
  },
  {
   "cell_type": "code",
   "execution_count": 28,
   "id": "55b4e21b",
   "metadata": {},
   "outputs": [
    {
     "name": "stdout",
     "output_type": "stream",
     "text": [
      "(20, 10, 16, 19, 25, 1, 276, 188)\n",
      "20 is even\n",
      "10 is even\n",
      "16 is even\n",
      "276 is even\n",
      "188 is even\n"
     ]
    }
   ],
   "source": [
    "lists=[20,10,16,19,25,1,276,188]\n",
    "tuples=tuple(lists)\n",
    "print(tuples)\n",
    "for temp in lists:\n",
    "    if(temp%2==0):\n",
    "        print(temp,\"is even\")\n",
    "    else:\n",
    "        pass"
   ]
  },
  {
   "cell_type": "code",
   "execution_count": null,
   "id": "d2b7853b",
   "metadata": {},
   "outputs": [],
   "source": []
  }
 ],
 "metadata": {
  "kernelspec": {
   "display_name": "Python 3 (ipykernel)",
   "language": "python",
   "name": "python3"
  },
  "language_info": {
   "codemirror_mode": {
    "name": "ipython",
    "version": 3
   },
   "file_extension": ".py",
   "mimetype": "text/x-python",
   "name": "python",
   "nbconvert_exporter": "python",
   "pygments_lexer": "ipython3",
   "version": "3.11.5"
  }
 },
 "nbformat": 4,
 "nbformat_minor": 5
}
